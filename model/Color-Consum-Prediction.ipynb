{
 "cells": [
  {
   "cell_type": "code",
   "execution_count": 77,
   "id": "339aacdd",
   "metadata": {},
   "outputs": [],
   "source": [
    "import pandas as pd\n",
    "import numpy as np\n",
    "import seaborn as sns\n",
    "from matplotlib import pyplot as plt\n",
    "import matplotlib\n",
    "matplotlib.rcParams['figure.figsize'] = (16,6)\n",
    "%matplotlib inline"
   ]
  },
  {
   "cell_type": "code",
   "execution_count": 78,
   "id": "b04de7d5",
   "metadata": {},
   "outputs": [
    {
     "data": {
      "text/html": [
       "<div>\n",
       "<style scoped>\n",
       "    .dataframe tbody tr th:only-of-type {\n",
       "        vertical-align: middle;\n",
       "    }\n",
       "\n",
       "    .dataframe tbody tr th {\n",
       "        vertical-align: top;\n",
       "    }\n",
       "\n",
       "    .dataframe thead th {\n",
       "        text-align: right;\n",
       "    }\n",
       "</style>\n",
       "<table border=\"1\" class=\"dataframe\">\n",
       "  <thead>\n",
       "    <tr style=\"text-align: right;\">\n",
       "      <th></th>\n",
       "      <th>Quality</th>\n",
       "      <th>Fibre</th>\n",
       "      <th>Count</th>\n",
       "      <th>Finish</th>\n",
       "      <th>Print</th>\n",
       "      <th>Coverage</th>\n",
       "      <th>Consum</th>\n",
       "      <th>Issued</th>\n",
       "      <th>Balance</th>\n",
       "      <th>Meters</th>\n",
       "      <th>Mesh</th>\n",
       "      <th>Rod</th>\n",
       "      <th>Speed</th>\n",
       "      <th>Hits</th>\n",
       "      <th>Color-hits</th>\n",
       "      <th>Viscosity</th>\n",
       "      <th>Machine</th>\n",
       "    </tr>\n",
       "  </thead>\n",
       "  <tbody>\n",
       "    <tr>\n",
       "      <th>0</th>\n",
       "      <td>13200046</td>\n",
       "      <td>CV</td>\n",
       "      <td>32</td>\n",
       "      <td>None</td>\n",
       "      <td>Reactive</td>\n",
       "      <td>11.86</td>\n",
       "      <td>210</td>\n",
       "      <td>240</td>\n",
       "      <td>30</td>\n",
       "      <td>10520</td>\n",
       "      <td>195.0</td>\n",
       "      <td>8.0</td>\n",
       "      <td>30.0</td>\n",
       "      <td>1</td>\n",
       "      <td>1</td>\n",
       "      <td>108.0</td>\n",
       "      <td>2.0</td>\n",
       "    </tr>\n",
       "    <tr>\n",
       "      <th>1</th>\n",
       "      <td>13200046</td>\n",
       "      <td>CV</td>\n",
       "      <td>32</td>\n",
       "      <td>None</td>\n",
       "      <td>Reactive</td>\n",
       "      <td>56.84</td>\n",
       "      <td>1060</td>\n",
       "      <td>1080</td>\n",
       "      <td>20</td>\n",
       "      <td>10520</td>\n",
       "      <td>125.0</td>\n",
       "      <td>10.0</td>\n",
       "      <td>30.0</td>\n",
       "      <td>1</td>\n",
       "      <td>1</td>\n",
       "      <td>70.0</td>\n",
       "      <td>2.0</td>\n",
       "    </tr>\n",
       "    <tr>\n",
       "      <th>2</th>\n",
       "      <td>13200046</td>\n",
       "      <td>CV</td>\n",
       "      <td>32</td>\n",
       "      <td>None</td>\n",
       "      <td>Reactive</td>\n",
       "      <td>18.55</td>\n",
       "      <td>345</td>\n",
       "      <td>360</td>\n",
       "      <td>15</td>\n",
       "      <td>10520</td>\n",
       "      <td>165.0</td>\n",
       "      <td>10.0</td>\n",
       "      <td>30.0</td>\n",
       "      <td>1</td>\n",
       "      <td>1</td>\n",
       "      <td>75.0</td>\n",
       "      <td>2.0</td>\n",
       "    </tr>\n",
       "    <tr>\n",
       "      <th>3</th>\n",
       "      <td>13200046</td>\n",
       "      <td>CV</td>\n",
       "      <td>32</td>\n",
       "      <td>None</td>\n",
       "      <td>Reactive</td>\n",
       "      <td>20.81</td>\n",
       "      <td>342</td>\n",
       "      <td>360</td>\n",
       "      <td>18</td>\n",
       "      <td>10520</td>\n",
       "      <td>165.0</td>\n",
       "      <td>10.0</td>\n",
       "      <td>30.0</td>\n",
       "      <td>1</td>\n",
       "      <td>0</td>\n",
       "      <td>68.0</td>\n",
       "      <td>2.0</td>\n",
       "    </tr>\n",
       "    <tr>\n",
       "      <th>4</th>\n",
       "      <td>13200046</td>\n",
       "      <td>CV</td>\n",
       "      <td>32</td>\n",
       "      <td>None</td>\n",
       "      <td>Reactive</td>\n",
       "      <td>4.40</td>\n",
       "      <td>102</td>\n",
       "      <td>120</td>\n",
       "      <td>18</td>\n",
       "      <td>10520</td>\n",
       "      <td>155.0</td>\n",
       "      <td>10.0</td>\n",
       "      <td>30.0</td>\n",
       "      <td>1</td>\n",
       "      <td>0</td>\n",
       "      <td>70.0</td>\n",
       "      <td>2.0</td>\n",
       "    </tr>\n",
       "    <tr>\n",
       "      <th>...</th>\n",
       "      <td>...</td>\n",
       "      <td>...</td>\n",
       "      <td>...</td>\n",
       "      <td>...</td>\n",
       "      <td>...</td>\n",
       "      <td>...</td>\n",
       "      <td>...</td>\n",
       "      <td>...</td>\n",
       "      <td>...</td>\n",
       "      <td>...</td>\n",
       "      <td>...</td>\n",
       "      <td>...</td>\n",
       "      <td>...</td>\n",
       "      <td>...</td>\n",
       "      <td>...</td>\n",
       "      <td>...</td>\n",
       "      <td>...</td>\n",
       "    </tr>\n",
       "    <tr>\n",
       "      <th>1301</th>\n",
       "      <td>14000398</td>\n",
       "      <td>CV</td>\n",
       "      <td>40</td>\n",
       "      <td>None</td>\n",
       "      <td>Reactive</td>\n",
       "      <td>4.68</td>\n",
       "      <td>45</td>\n",
       "      <td>70</td>\n",
       "      <td>25</td>\n",
       "      <td>2194</td>\n",
       "      <td>125.0</td>\n",
       "      <td>12.0</td>\n",
       "      <td>30.0</td>\n",
       "      <td>3</td>\n",
       "      <td>1</td>\n",
       "      <td>61.0</td>\n",
       "      <td>1.0</td>\n",
       "    </tr>\n",
       "    <tr>\n",
       "      <th>1302</th>\n",
       "      <td>14000398</td>\n",
       "      <td>CV</td>\n",
       "      <td>40</td>\n",
       "      <td>None</td>\n",
       "      <td>Reactive</td>\n",
       "      <td>9.38</td>\n",
       "      <td>73</td>\n",
       "      <td>96</td>\n",
       "      <td>23</td>\n",
       "      <td>2194</td>\n",
       "      <td>125.0</td>\n",
       "      <td>12.0</td>\n",
       "      <td>30.0</td>\n",
       "      <td>3</td>\n",
       "      <td>1</td>\n",
       "      <td>64.0</td>\n",
       "      <td>1.0</td>\n",
       "    </tr>\n",
       "    <tr>\n",
       "      <th>1303</th>\n",
       "      <td>14000398</td>\n",
       "      <td>CV</td>\n",
       "      <td>40</td>\n",
       "      <td>None</td>\n",
       "      <td>Reactive</td>\n",
       "      <td>4.54</td>\n",
       "      <td>49</td>\n",
       "      <td>70</td>\n",
       "      <td>21</td>\n",
       "      <td>2194</td>\n",
       "      <td>125.0</td>\n",
       "      <td>12.0</td>\n",
       "      <td>30.0</td>\n",
       "      <td>3</td>\n",
       "      <td>0</td>\n",
       "      <td>62.0</td>\n",
       "      <td>1.0</td>\n",
       "    </tr>\n",
       "    <tr>\n",
       "      <th>1304</th>\n",
       "      <td>14000398</td>\n",
       "      <td>CV</td>\n",
       "      <td>40</td>\n",
       "      <td>None</td>\n",
       "      <td>Reactive</td>\n",
       "      <td>4.06</td>\n",
       "      <td>49</td>\n",
       "      <td>74</td>\n",
       "      <td>25</td>\n",
       "      <td>2194</td>\n",
       "      <td>125.0</td>\n",
       "      <td>12.0</td>\n",
       "      <td>30.0</td>\n",
       "      <td>3</td>\n",
       "      <td>2</td>\n",
       "      <td>63.0</td>\n",
       "      <td>1.0</td>\n",
       "    </tr>\n",
       "    <tr>\n",
       "      <th>1305</th>\n",
       "      <td>14000398</td>\n",
       "      <td>CV</td>\n",
       "      <td>40</td>\n",
       "      <td>None</td>\n",
       "      <td>Reactive</td>\n",
       "      <td>4.57</td>\n",
       "      <td>51</td>\n",
       "      <td>70</td>\n",
       "      <td>19</td>\n",
       "      <td>2194</td>\n",
       "      <td>125.0</td>\n",
       "      <td>12.0</td>\n",
       "      <td>30.0</td>\n",
       "      <td>3</td>\n",
       "      <td>1</td>\n",
       "      <td>65.0</td>\n",
       "      <td>1.0</td>\n",
       "    </tr>\n",
       "  </tbody>\n",
       "</table>\n",
       "<p>1306 rows × 17 columns</p>\n",
       "</div>"
      ],
      "text/plain": [
       "       Quality Fibre  Count Finish     Print  Coverage  Consum  Issued  \\\n",
       "0     13200046    CV     32   None  Reactive     11.86     210     240   \n",
       "1     13200046    CV     32   None  Reactive     56.84    1060    1080   \n",
       "2     13200046    CV     32   None  Reactive     18.55     345     360   \n",
       "3     13200046    CV     32   None  Reactive     20.81     342     360   \n",
       "4     13200046    CV     32   None  Reactive      4.40     102     120   \n",
       "...        ...   ...    ...    ...       ...       ...     ...     ...   \n",
       "1301  14000398    CV     40   None  Reactive      4.68      45      70   \n",
       "1302  14000398    CV     40   None  Reactive      9.38      73      96   \n",
       "1303  14000398    CV     40   None  Reactive      4.54      49      70   \n",
       "1304  14000398    CV     40   None  Reactive      4.06      49      74   \n",
       "1305  14000398    CV     40   None  Reactive      4.57      51      70   \n",
       "\n",
       "      Balance  Meters   Mesh   Rod  Speed  Hits  Color-hits  Viscosity  \\\n",
       "0          30   10520  195.0   8.0   30.0     1           1      108.0   \n",
       "1          20   10520  125.0  10.0   30.0     1           1       70.0   \n",
       "2          15   10520  165.0  10.0   30.0     1           1       75.0   \n",
       "3          18   10520  165.0  10.0   30.0     1           0       68.0   \n",
       "4          18   10520  155.0  10.0   30.0     1           0       70.0   \n",
       "...       ...     ...    ...   ...    ...   ...         ...        ...   \n",
       "1301       25    2194  125.0  12.0   30.0     3           1       61.0   \n",
       "1302       23    2194  125.0  12.0   30.0     3           1       64.0   \n",
       "1303       21    2194  125.0  12.0   30.0     3           0       62.0   \n",
       "1304       25    2194  125.0  12.0   30.0     3           2       63.0   \n",
       "1305       19    2194  125.0  12.0   30.0     3           1       65.0   \n",
       "\n",
       "      Machine  \n",
       "0         2.0  \n",
       "1         2.0  \n",
       "2         2.0  \n",
       "3         2.0  \n",
       "4         2.0  \n",
       "...       ...  \n",
       "1301      1.0  \n",
       "1302      1.0  \n",
       "1303      1.0  \n",
       "1304      1.0  \n",
       "1305      1.0  \n",
       "\n",
       "[1306 rows x 17 columns]"
      ]
     },
     "execution_count": 78,
     "metadata": {},
     "output_type": "execute_result"
    }
   ],
   "source": [
    "df = pd.read_csv('Color_data.csv')\n",
    "df"
   ]
  },
  {
   "cell_type": "code",
   "execution_count": 79,
   "id": "d7cc4581",
   "metadata": {},
   "outputs": [],
   "source": [
    "df = df.dropna(axis=0,how='any')"
   ]
  },
  {
   "cell_type": "code",
   "execution_count": 80,
   "id": "85ef059d",
   "metadata": {},
   "outputs": [
    {
     "name": "stdout",
     "output_type": "stream",
     "text": [
      "<class 'pandas.core.frame.DataFrame'>\n",
      "Int64Index: 973 entries, 0 to 1305\n",
      "Data columns (total 17 columns):\n",
      " #   Column      Non-Null Count  Dtype  \n",
      "---  ------      --------------  -----  \n",
      " 0   Quality     973 non-null    object \n",
      " 1   Fibre       973 non-null    object \n",
      " 2   Count       973 non-null    int64  \n",
      " 3   Finish      973 non-null    object \n",
      " 4   Print       973 non-null    object \n",
      " 5   Coverage    973 non-null    float64\n",
      " 6   Consum      973 non-null    int64  \n",
      " 7   Issued      973 non-null    int64  \n",
      " 8   Balance     973 non-null    int64  \n",
      " 9   Meters      973 non-null    int64  \n",
      " 10  Mesh        973 non-null    float64\n",
      " 11  Rod         973 non-null    float64\n",
      " 12  Speed       973 non-null    float64\n",
      " 13  Hits        973 non-null    int64  \n",
      " 14  Color-hits  973 non-null    int64  \n",
      " 15  Viscosity   973 non-null    float64\n",
      " 16  Machine     973 non-null    float64\n",
      "dtypes: float64(6), int64(7), object(4)\n",
      "memory usage: 136.8+ KB\n"
     ]
    }
   ],
   "source": [
    "df.info()"
   ]
  },
  {
   "cell_type": "code",
   "execution_count": 81,
   "id": "e6db2879",
   "metadata": {},
   "outputs": [
    {
     "data": {
      "text/plain": [
       "['Quality', 'Fibre', 'Finish', 'Print']"
      ]
     },
     "execution_count": 81,
     "metadata": {},
     "output_type": "execute_result"
    }
   ],
   "source": [
    "c_list = [i for i in df.columns if df[i].dtype=='object']\n",
    "c_list"
   ]
  },
  {
   "cell_type": "code",
   "execution_count": 82,
   "id": "0942d964",
   "metadata": {},
   "outputs": [],
   "source": [
    "def onehot_cols(cols):\n",
    "    df_final = df\n",
    "    i = 0\n",
    "    for c in cols:\n",
    "        print(c)\n",
    "        df1 = pd.get_dummies(df[c], drop_first=True)\n",
    "        df.drop([c], axis=1, inplace=True)\n",
    "        if i == 0:\n",
    "            df_final = df1.copy()\n",
    "        else:\n",
    "            df_final = pd.concat([df_final,df1], axis=1)\n",
    "        i = i+1\n",
    "    df_final = pd.concat([df, df_final], axis=1)\n",
    "    return df_final"
   ]
  },
  {
   "cell_type": "code",
   "execution_count": 83,
   "id": "3540a9e3",
   "metadata": {},
   "outputs": [
    {
     "name": "stdout",
     "output_type": "stream",
     "text": [
      "Quality\n",
      "Fibre\n",
      "Finish\n",
      "Print\n"
     ]
    },
    {
     "name": "stderr",
     "output_type": "stream",
     "text": [
      "C:\\Python310\\lib\\site-packages\\pandas\\core\\frame.py:4906: SettingWithCopyWarning: \n",
      "A value is trying to be set on a copy of a slice from a DataFrame\n",
      "\n",
      "See the caveats in the documentation: https://pandas.pydata.org/pandas-docs/stable/user_guide/indexing.html#returning-a-view-versus-a-copy\n",
      "  return super().drop(\n"
     ]
    }
   ],
   "source": [
    "df = onehot_cols(c_list)"
   ]
  },
  {
   "cell_type": "code",
   "execution_count": 84,
   "id": "541934de",
   "metadata": {},
   "outputs": [
    {
     "data": {
      "text/html": [
       "<div>\n",
       "<style scoped>\n",
       "    .dataframe tbody tr th:only-of-type {\n",
       "        vertical-align: middle;\n",
       "    }\n",
       "\n",
       "    .dataframe tbody tr th {\n",
       "        vertical-align: top;\n",
       "    }\n",
       "\n",
       "    .dataframe thead th {\n",
       "        text-align: right;\n",
       "    }\n",
       "</style>\n",
       "<table border=\"1\" class=\"dataframe\">\n",
       "  <thead>\n",
       "    <tr style=\"text-align: right;\">\n",
       "      <th></th>\n",
       "      <th>Count</th>\n",
       "      <th>Coverage</th>\n",
       "      <th>Consum</th>\n",
       "      <th>Issued</th>\n",
       "      <th>Balance</th>\n",
       "      <th>Meters</th>\n",
       "      <th>Mesh</th>\n",
       "      <th>Rod</th>\n",
       "      <th>Speed</th>\n",
       "      <th>Hits</th>\n",
       "      <th>...</th>\n",
       "      <th>JM</th>\n",
       "      <th>PC</th>\n",
       "      <th>SPC</th>\n",
       "      <th>ST</th>\n",
       "      <th>T</th>\n",
       "      <th>V</th>\n",
       "      <th>Peach</th>\n",
       "      <th>Raise</th>\n",
       "      <th>Pigment</th>\n",
       "      <th>Reactive</th>\n",
       "    </tr>\n",
       "  </thead>\n",
       "  <tbody>\n",
       "    <tr>\n",
       "      <th>0</th>\n",
       "      <td>32</td>\n",
       "      <td>11.86</td>\n",
       "      <td>210</td>\n",
       "      <td>240</td>\n",
       "      <td>30</td>\n",
       "      <td>10520</td>\n",
       "      <td>195.0</td>\n",
       "      <td>8.0</td>\n",
       "      <td>30.0</td>\n",
       "      <td>1</td>\n",
       "      <td>...</td>\n",
       "      <td>0</td>\n",
       "      <td>0</td>\n",
       "      <td>0</td>\n",
       "      <td>0</td>\n",
       "      <td>0</td>\n",
       "      <td>0</td>\n",
       "      <td>0</td>\n",
       "      <td>0</td>\n",
       "      <td>0</td>\n",
       "      <td>1</td>\n",
       "    </tr>\n",
       "    <tr>\n",
       "      <th>1</th>\n",
       "      <td>32</td>\n",
       "      <td>56.84</td>\n",
       "      <td>1060</td>\n",
       "      <td>1080</td>\n",
       "      <td>20</td>\n",
       "      <td>10520</td>\n",
       "      <td>125.0</td>\n",
       "      <td>10.0</td>\n",
       "      <td>30.0</td>\n",
       "      <td>1</td>\n",
       "      <td>...</td>\n",
       "      <td>0</td>\n",
       "      <td>0</td>\n",
       "      <td>0</td>\n",
       "      <td>0</td>\n",
       "      <td>0</td>\n",
       "      <td>0</td>\n",
       "      <td>0</td>\n",
       "      <td>0</td>\n",
       "      <td>0</td>\n",
       "      <td>1</td>\n",
       "    </tr>\n",
       "    <tr>\n",
       "      <th>2</th>\n",
       "      <td>32</td>\n",
       "      <td>18.55</td>\n",
       "      <td>345</td>\n",
       "      <td>360</td>\n",
       "      <td>15</td>\n",
       "      <td>10520</td>\n",
       "      <td>165.0</td>\n",
       "      <td>10.0</td>\n",
       "      <td>30.0</td>\n",
       "      <td>1</td>\n",
       "      <td>...</td>\n",
       "      <td>0</td>\n",
       "      <td>0</td>\n",
       "      <td>0</td>\n",
       "      <td>0</td>\n",
       "      <td>0</td>\n",
       "      <td>0</td>\n",
       "      <td>0</td>\n",
       "      <td>0</td>\n",
       "      <td>0</td>\n",
       "      <td>1</td>\n",
       "    </tr>\n",
       "    <tr>\n",
       "      <th>3</th>\n",
       "      <td>32</td>\n",
       "      <td>20.81</td>\n",
       "      <td>342</td>\n",
       "      <td>360</td>\n",
       "      <td>18</td>\n",
       "      <td>10520</td>\n",
       "      <td>165.0</td>\n",
       "      <td>10.0</td>\n",
       "      <td>30.0</td>\n",
       "      <td>1</td>\n",
       "      <td>...</td>\n",
       "      <td>0</td>\n",
       "      <td>0</td>\n",
       "      <td>0</td>\n",
       "      <td>0</td>\n",
       "      <td>0</td>\n",
       "      <td>0</td>\n",
       "      <td>0</td>\n",
       "      <td>0</td>\n",
       "      <td>0</td>\n",
       "      <td>1</td>\n",
       "    </tr>\n",
       "    <tr>\n",
       "      <th>4</th>\n",
       "      <td>32</td>\n",
       "      <td>4.40</td>\n",
       "      <td>102</td>\n",
       "      <td>120</td>\n",
       "      <td>18</td>\n",
       "      <td>10520</td>\n",
       "      <td>155.0</td>\n",
       "      <td>10.0</td>\n",
       "      <td>30.0</td>\n",
       "      <td>1</td>\n",
       "      <td>...</td>\n",
       "      <td>0</td>\n",
       "      <td>0</td>\n",
       "      <td>0</td>\n",
       "      <td>0</td>\n",
       "      <td>0</td>\n",
       "      <td>0</td>\n",
       "      <td>0</td>\n",
       "      <td>0</td>\n",
       "      <td>0</td>\n",
       "      <td>1</td>\n",
       "    </tr>\n",
       "  </tbody>\n",
       "</table>\n",
       "<p>5 rows × 122 columns</p>\n",
       "</div>"
      ],
      "text/plain": [
       "   Count  Coverage  Consum  Issued  Balance  Meters   Mesh   Rod  Speed  Hits  \\\n",
       "0     32     11.86     210     240       30   10520  195.0   8.0   30.0     1   \n",
       "1     32     56.84    1060    1080       20   10520  125.0  10.0   30.0     1   \n",
       "2     32     18.55     345     360       15   10520  165.0  10.0   30.0     1   \n",
       "3     32     20.81     342     360       18   10520  165.0  10.0   30.0     1   \n",
       "4     32      4.40     102     120       18   10520  155.0  10.0   30.0     1   \n",
       "\n",
       "   ...  JM  PC  SPC  ST  T  V  Peach  Raise  Pigment  Reactive  \n",
       "0  ...   0   0    0   0  0  0      0      0        0         1  \n",
       "1  ...   0   0    0   0  0  0      0      0        0         1  \n",
       "2  ...   0   0    0   0  0  0      0      0        0         1  \n",
       "3  ...   0   0    0   0  0  0      0      0        0         1  \n",
       "4  ...   0   0    0   0  0  0      0      0        0         1  \n",
       "\n",
       "[5 rows x 122 columns]"
      ]
     },
     "execution_count": 84,
     "metadata": {},
     "output_type": "execute_result"
    }
   ],
   "source": [
    "df.head()"
   ]
  },
  {
   "cell_type": "code",
   "execution_count": 85,
   "id": "cadccb42",
   "metadata": {
    "scrolled": false
   },
   "outputs": [
    {
     "data": {
      "text/plain": [
       "Index(['Count', 'Coverage', 'Consum', 'Issued', 'Balance', 'Meters', 'Mesh',\n",
       "       'Rod', 'Speed', 'Hits',\n",
       "       ...\n",
       "       'JM', 'PC', 'SPC', 'ST', 'T', 'V', 'Peach', 'Raise', 'Pigment',\n",
       "       'Reactive'],\n",
       "      dtype='object', length=122)"
      ]
     },
     "execution_count": 85,
     "metadata": {},
     "output_type": "execute_result"
    }
   ],
   "source": [
    "df.columns"
   ]
  },
  {
   "cell_type": "code",
   "execution_count": 86,
   "id": "11c1a6c9",
   "metadata": {
    "scrolled": true
   },
   "outputs": [],
   "source": [
    "X = df.drop(['Consum','Issued','Balance'],axis=1)\n",
    "y = df.Consum"
   ]
  },
  {
   "cell_type": "code",
   "execution_count": 87,
   "id": "51a6b0b1",
   "metadata": {},
   "outputs": [
    {
     "data": {
      "text/plain": [
       "Int64Index([   0,    1,    2,    3,    4,   21,   35,   36,   37,   38,\n",
       "            ...\n",
       "            1237, 1241, 1298, 1299, 1300, 1301, 1302, 1303, 1304, 1305],\n",
       "           dtype='int64', length=973)"
      ]
     },
     "execution_count": 87,
     "metadata": {},
     "output_type": "execute_result"
    }
   ],
   "source": [
    "y.index"
   ]
  },
  {
   "cell_type": "code",
   "execution_count": 88,
   "id": "7f1845fe",
   "metadata": {},
   "outputs": [],
   "source": [
    "from sklearn.model_selection import train_test_split\n",
    "from sklearn.ensemble import GradientBoostingRegressor,AdaBoostRegressor,RandomForestRegressor\n",
    "from sklearn.metrics import mean_absolute_error"
   ]
  },
  {
   "cell_type": "code",
   "execution_count": 89,
   "id": "39cb5210",
   "metadata": {},
   "outputs": [],
   "source": [
    "X_train, X_test, y_train, y_test = train_test_split(X,y,test_size=0.2,random_state=0)\n",
    "#model = GradientBoostingRegressor()\n",
    "#model = AdaBoostRegressor()\n",
    "model = RandomForestRegressor()"
   ]
  },
  {
   "cell_type": "code",
   "execution_count": 90,
   "id": "4f418db5",
   "metadata": {},
   "outputs": [
    {
     "data": {
      "text/plain": [
       "0.8642980667871799"
      ]
     },
     "execution_count": 90,
     "metadata": {},
     "output_type": "execute_result"
    }
   ],
   "source": [
    "model.fit(X_train,y_train)\n",
    "model.score(X_test,y_test)"
   ]
  },
  {
   "cell_type": "code",
   "execution_count": 91,
   "id": "ec3f5368",
   "metadata": {},
   "outputs": [],
   "source": [
    "def predict_consum(article,fibre,finish,p_style,count,cover,meters,mesh,rod,speed,hits,c_hits,visc,mach):\n",
    "    print('starting')\n",
    "    try:\n",
    "        art_index = np.where(X.columns==article)[0][0]\n",
    "    except:\n",
    "        return 0\n",
    "    print(art_index)\n",
    "    try:\n",
    "        fib_index = np.where(X.columns==fibre)[0][0]\n",
    "    except:\n",
    "        return 0\n",
    "    print(fib_index)\n",
    "    try:\n",
    "        fin_index = np.where(X.columns==finish)[0][0]\n",
    "    except:\n",
    "        return 0\n",
    "    print(fin_index)\n",
    "    try:\n",
    "        sty_index = np.where(X.columns==p_style)[0][0]\n",
    "    except:\n",
    "        return 0\n",
    "    print(sty_index)\n",
    "    print('params: ',art_index,fib_index,fin_index,sty_index)\n",
    "    x = np.zeros(len(X.columns))\n",
    "    print(x)\n",
    "    x[0] = count\n",
    "    x[1] = cover\n",
    "    x[2] = meters\n",
    "    x[3] = mesh\n",
    "    x[4] = rod\n",
    "    x[5] = speed\n",
    "    x[6] = hits\n",
    "    x[7] = c_hits\n",
    "    x[8] = visc\n",
    "    x[9] = mach\n",
    "    if art_index or fib_index or fin_index or sty_index > 0:\n",
    "        x[art_index] = 1\n",
    "        x[fib_index] = 1\n",
    "        x[fin_index] = 1\n",
    "        x[sty_index] = 1\n",
    "    print(x)\n",
    "    return model.predict([x])[0]"
   ]
  },
  {
   "cell_type": "code",
   "execution_count": 55,
   "id": "bb40efcc",
   "metadata": {
    "scrolled": true
   },
   "outputs": [
    {
     "data": {
      "text/plain": [
       "['Count',\n",
       " 'Coverage',\n",
       " 'Meters',\n",
       " 'Mesh',\n",
       " 'Rod',\n",
       " 'Speed',\n",
       " 'Hits',\n",
       " 'Color-hits',\n",
       " 'Viscosity',\n",
       " 'Machine',\n",
       " '116414',\n",
       " '12000251',\n",
       " '120109',\n",
       " '120G88',\n",
       " '120H89',\n",
       " '12400017',\n",
       " '13000391',\n",
       " '13000437',\n",
       " '130176',\n",
       " '130C56',\n",
       " '130D07',\n",
       " '130K00',\n",
       " '130Q28',\n",
       " '13200046',\n",
       " '132144',\n",
       " '132340',\n",
       " '13257',\n",
       " '132B147',\n",
       " '14000313',\n",
       " '14000396',\n",
       " '14000398',\n",
       " '14000756',\n",
       " '1400398',\n",
       " '140117',\n",
       " '14015',\n",
       " '140313',\n",
       " '140324',\n",
       " '140367',\n",
       " '140J17',\n",
       " '14500101',\n",
       " '150264',\n",
       " '150442',\n",
       " '150G07',\n",
       " '16000173',\n",
       " '16000314',\n",
       " '16009',\n",
       " '160A63',\n",
       " '18006',\n",
       " 'A120A528',\n",
       " 'A120B045',\n",
       " 'A120B375',\n",
       " 'A120C093',\n",
       " 'A130A343',\n",
       " 'A130B074',\n",
       " 'A130B459',\n",
       " 'A130B609',\n",
       " 'A130B652',\n",
       " 'A130B680',\n",
       " 'A130C150',\n",
       " 'A130D001',\n",
       " 'A130D621',\n",
       " 'A130K00',\n",
       " 'A132A44',\n",
       " 'A132A744',\n",
       " 'A132A901',\n",
       " 'A132A927',\n",
       " 'A132B006',\n",
       " 'A132B147',\n",
       " 'A132B148',\n",
       " 'A1400058',\n",
       " 'A1400232',\n",
       " 'A140A622',\n",
       " 'A140C096',\n",
       " 'A140C537',\n",
       " 'A140C538',\n",
       " 'A140D080',\n",
       " 'A140D377',\n",
       " 'A140D660',\n",
       " 'A140D663',\n",
       " 'A140D722',\n",
       " 'A140E042',\n",
       " 'A140E111',\n",
       " 'A140E129',\n",
       " 'A145A279',\n",
       " 'A145A280',\n",
       " 'A145A281',\n",
       " 'A145A387',\n",
       " 'A150B433',\n",
       " 'A150B589',\n",
       " 'A150B593',\n",
       " 'A150C071',\n",
       " 'A150C549',\n",
       " 'A150C944',\n",
       " 'A150C971',\n",
       " 'A150D067',\n",
       " 'A150D079',\n",
       " 'A150D080',\n",
       " 'A1600279',\n",
       " 'A160A416',\n",
       " 'A160A483',\n",
       " 'A160A742',\n",
       " 'A160B551',\n",
       " 'A160B684',\n",
       " 'A180A234',\n",
       " 'A280A354',\n",
       " 'A2A0A621',\n",
       " 'CV',\n",
       " 'FX',\n",
       " 'GSCN',\n",
       " 'JM',\n",
       " 'PC',\n",
       " 'SPC',\n",
       " 'ST',\n",
       " 'T',\n",
       " 'V',\n",
       " 'Peach',\n",
       " 'Raise',\n",
       " 'Pigment',\n",
       " 'Reactive']"
      ]
     },
     "execution_count": 55,
     "metadata": {},
     "output_type": "execute_result"
    }
   ],
   "source": [
    "[i for i in X.columns]"
   ]
  },
  {
   "cell_type": "code",
   "execution_count": 97,
   "id": "8843a1cf",
   "metadata": {
    "scrolled": true
   },
   "outputs": [
    {
     "name": "stdout",
     "output_type": "stream",
     "text": [
      "starting\n",
      "23\n",
      "106\n",
      "115\n",
      "118\n",
      "params:  23 106 115 118\n",
      "[0. 0. 0. 0. 0. 0. 0. 0. 0. 0. 0. 0. 0. 0. 0. 0. 0. 0. 0. 0. 0. 0. 0. 0.\n",
      " 0. 0. 0. 0. 0. 0. 0. 0. 0. 0. 0. 0. 0. 0. 0. 0. 0. 0. 0. 0. 0. 0. 0. 0.\n",
      " 0. 0. 0. 0. 0. 0. 0. 0. 0. 0. 0. 0. 0. 0. 0. 0. 0. 0. 0. 0. 0. 0. 0. 0.\n",
      " 0. 0. 0. 0. 0. 0. 0. 0. 0. 0. 0. 0. 0. 0. 0. 0. 0. 0. 0. 0. 0. 0. 0. 0.\n",
      " 0. 0. 0. 0. 0. 0. 0. 0. 0. 0. 0. 0. 0. 0. 0. 0. 0. 0. 0. 0. 0. 0. 0.]\n",
      "[  30.   40. 1000.  125.    8.   30.    1.    1.   70.    2.    0.    0.\n",
      "    0.    0.    0.    0.    0.    0.    0.    0.    0.    0.    0.    1.\n",
      "    0.    0.    0.    0.    0.    0.    0.    0.    0.    0.    0.    0.\n",
      "    0.    0.    0.    0.    0.    0.    0.    0.    0.    0.    0.    0.\n",
      "    0.    0.    0.    0.    0.    0.    0.    0.    0.    0.    0.    0.\n",
      "    0.    0.    0.    0.    0.    0.    0.    0.    0.    0.    0.    0.\n",
      "    0.    0.    0.    0.    0.    0.    0.    0.    0.    0.    0.    0.\n",
      "    0.    0.    0.    0.    0.    0.    0.    0.    0.    0.    0.    0.\n",
      "    0.    0.    0.    0.    0.    0.    0.    0.    0.    0.    1.    0.\n",
      "    0.    0.    0.    0.    0.    0.    0.    1.    0.    0.    1.]\n"
     ]
    },
    {
     "name": "stderr",
     "output_type": "stream",
     "text": [
      "C:\\Python310\\lib\\site-packages\\sklearn\\base.py:450: UserWarning: X does not have valid feature names, but RandomForestRegressor was fitted with feature names\n",
      "  warnings.warn(\n"
     ]
    },
    {
     "data": {
      "text/plain": [
       "108.24"
      ]
     },
     "execution_count": 97,
     "metadata": {},
     "output_type": "execute_result"
    }
   ],
   "source": [
    "predict_consum('13200046','CV','Peach','Reactive',30,40.0,1000,125.0,8.0,30.0,1,1,70.0,2.0)"
   ]
  },
  {
   "cell_type": "code",
   "execution_count": 98,
   "id": "3d6ad309",
   "metadata": {},
   "outputs": [],
   "source": [
    "import pickle\n",
    "with open('color_model.pickle','wb') as f:\n",
    "    pickle.dump(model,f)"
   ]
  },
  {
   "cell_type": "code",
   "execution_count": 99,
   "id": "f22c40bb",
   "metadata": {},
   "outputs": [],
   "source": [
    "import json\n",
    "columns = {\n",
    "    'data_columns': [col.lower() for col in X.columns]\n",
    "}\n",
    "with open(\"columns.json\",\"w\") as f:\n",
    "    f.write(json.dumps(columns))"
   ]
  },
  {
   "cell_type": "code",
   "execution_count": 34,
   "id": "6fe51759",
   "metadata": {},
   "outputs": [
    {
     "data": {
      "text/plain": [
       "array([1, 2, 3, 4, 5, 6, 7, 8, 9])"
      ]
     },
     "execution_count": 34,
     "metadata": {},
     "output_type": "execute_result"
    }
   ],
   "source": [
    "arr = np.array([1,2,3,4,5,6,7,8,9])\n",
    "arr"
   ]
  },
  {
   "cell_type": "code",
   "execution_count": 48,
   "id": "62ea6134",
   "metadata": {},
   "outputs": [
    {
     "data": {
      "text/plain": [
       "(array([], dtype=int64),)"
      ]
     },
     "execution_count": 48,
     "metadata": {},
     "output_type": "execute_result"
    }
   ],
   "source": [
    "np.where(arr==0)"
   ]
  },
  {
   "cell_type": "code",
   "execution_count": 49,
   "id": "c60f6362",
   "metadata": {},
   "outputs": [
    {
     "data": {
      "text/plain": [
       "array([], dtype=int64)"
      ]
     },
     "execution_count": 49,
     "metadata": {},
     "output_type": "execute_result"
    }
   ],
   "source": [
    "np.where(arr==0)[0]"
   ]
  },
  {
   "cell_type": "code",
   "execution_count": 51,
   "id": "e04f09a4",
   "metadata": {},
   "outputs": [
    {
     "ename": "IndexError",
     "evalue": "index 0 is out of bounds for axis 0 with size 0",
     "output_type": "error",
     "traceback": [
      "\u001b[1;31m---------------------------------------------------------------------------\u001b[0m",
      "\u001b[1;31mIndexError\u001b[0m                                Traceback (most recent call last)",
      "Input \u001b[1;32mIn [51]\u001b[0m, in \u001b[0;36m<module>\u001b[1;34m\u001b[0m\n\u001b[1;32m----> 1\u001b[0m \u001b[43mnp\u001b[49m\u001b[38;5;241;43m.\u001b[39;49m\u001b[43mwhere\u001b[49m\u001b[43m(\u001b[49m\u001b[43marr\u001b[49m\u001b[38;5;241;43m==\u001b[39;49m\u001b[38;5;241;43m10\u001b[39;49m\u001b[43m)\u001b[49m\u001b[43m[\u001b[49m\u001b[38;5;241;43m0\u001b[39;49m\u001b[43m]\u001b[49m\u001b[43m[\u001b[49m\u001b[38;5;241;43m0\u001b[39;49m\u001b[43m]\u001b[49m\n",
      "\u001b[1;31mIndexError\u001b[0m: index 0 is out of bounds for axis 0 with size 0"
     ]
    }
   ],
   "source": [
    "np.where(arr==10)[0][0]"
   ]
  },
  {
   "cell_type": "code",
   "execution_count": null,
   "id": "d09dce5e",
   "metadata": {},
   "outputs": [],
   "source": []
  }
 ],
 "metadata": {
  "kernelspec": {
   "display_name": "Python 3 (ipykernel)",
   "language": "python",
   "name": "python3"
  },
  "language_info": {
   "codemirror_mode": {
    "name": "ipython",
    "version": 3
   },
   "file_extension": ".py",
   "mimetype": "text/x-python",
   "name": "python",
   "nbconvert_exporter": "python",
   "pygments_lexer": "ipython3",
   "version": "3.10.0"
  }
 },
 "nbformat": 4,
 "nbformat_minor": 5
}
